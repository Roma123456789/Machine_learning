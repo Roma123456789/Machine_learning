{
 "cells": [
  {
   "cell_type": "code",
   "execution_count": 7,
   "id": "3ab0b73a",
   "metadata": {},
   "outputs": [
    {
     "name": "stdout",
     "output_type": "stream",
     "text": [
      "Requirement already satisfied: mlflow in c:\\users\\igor\\anaconda3\\lib\\site-packages (2.19.0)\n",
      "Requirement already satisfied: sqlalchemy<3,>=1.4.0 in c:\\users\\igor\\anaconda3\\lib\\site-packages (from mlflow) (1.4.32)\n",
      "Requirement already satisfied: alembic!=1.10.0,<2 in c:\\users\\igor\\anaconda3\\lib\\site-packages (from mlflow) (1.14.0)\n",
      "Requirement already satisfied: markdown<4,>=3.3 in c:\\users\\igor\\anaconda3\\lib\\site-packages (from mlflow) (3.3.4)\n",
      "Requirement already satisfied: numpy<3 in c:\\users\\igor\\anaconda3\\lib\\site-packages (from mlflow) (1.21.5)\n",
      "Requirement already satisfied: pyarrow<19,>=4.0.0 in c:\\users\\igor\\anaconda3\\lib\\site-packages (from mlflow) (18.1.0)\n",
      "Requirement already satisfied: Jinja2<4,>=3.0 in c:\\users\\igor\\anaconda3\\lib\\site-packages (from mlflow) (3.0.3)\n",
      "Requirement already satisfied: pandas<3 in c:\\users\\igor\\anaconda3\\lib\\site-packages (from mlflow) (1.4.2)\n",
      "Requirement already satisfied: scikit-learn<2 in c:\\users\\igor\\anaconda3\\lib\\site-packages (from mlflow) (1.0.2)\n",
      "Requirement already satisfied: Flask<4 in c:\\users\\igor\\anaconda3\\lib\\site-packages (from mlflow) (1.1.2)\n",
      "Requirement already satisfied: scipy<2 in c:\\users\\igor\\anaconda3\\lib\\site-packages (from mlflow) (1.7.3)\n",
      "Requirement already satisfied: docker<8,>=4.0.0 in c:\\users\\igor\\anaconda3\\lib\\site-packages (from mlflow) (7.1.0)\n",
      "Requirement already satisfied: mlflow-skinny==2.19.0 in c:\\users\\igor\\anaconda3\\lib\\site-packages (from mlflow) (2.19.0)\n",
      "Requirement already satisfied: matplotlib<4 in c:\\users\\igor\\anaconda3\\lib\\site-packages (from mlflow) (3.5.1)\n",
      "Requirement already satisfied: graphene<4 in c:\\users\\igor\\anaconda3\\lib\\site-packages (from mlflow) (3.4.3)\n",
      "Requirement already satisfied: waitress<4 in c:\\users\\igor\\anaconda3\\lib\\site-packages (from mlflow) (3.0.2)\n",
      "Requirement already satisfied: sqlparse<1,>=0.4.0 in c:\\users\\igor\\anaconda3\\lib\\site-packages (from mlflow-skinny==2.19.0->mlflow) (0.5.3)\n",
      "Requirement already satisfied: opentelemetry-sdk<3,>=1.9.0 in c:\\users\\igor\\anaconda3\\lib\\site-packages (from mlflow-skinny==2.19.0->mlflow) (1.29.0)\n",
      "Requirement already satisfied: importlib_metadata!=4.7.0,<9,>=3.7.0 in c:\\users\\igor\\anaconda3\\lib\\site-packages (from mlflow-skinny==2.19.0->mlflow) (8.5.0)\n",
      "Requirement already satisfied: packaging<25 in c:\\users\\igor\\anaconda3\\lib\\site-packages (from mlflow-skinny==2.19.0->mlflow) (21.3)\n",
      "Requirement already satisfied: cachetools<6,>=5.0.0 in c:\\users\\igor\\anaconda3\\lib\\site-packages (from mlflow-skinny==2.19.0->mlflow) (5.5.0)\n",
      "Requirement already satisfied: pyyaml<7,>=5.1 in c:\\users\\igor\\anaconda3\\lib\\site-packages (from mlflow-skinny==2.19.0->mlflow) (6.0)\n",
      "Requirement already satisfied: opentelemetry-api<3,>=1.9.0 in c:\\users\\igor\\anaconda3\\lib\\site-packages (from mlflow-skinny==2.19.0->mlflow) (1.29.0)\n",
      "Requirement already satisfied: click<9,>=7.0 in c:\\users\\igor\\anaconda3\\lib\\site-packages (from mlflow-skinny==2.19.0->mlflow) (8.0.4)\n",
      "Requirement already satisfied: cloudpickle<4 in c:\\users\\igor\\anaconda3\\lib\\site-packages (from mlflow-skinny==2.19.0->mlflow) (2.0.0)\n",
      "Requirement already satisfied: databricks-sdk<1,>=0.20.0 in c:\\users\\igor\\anaconda3\\lib\\site-packages (from mlflow-skinny==2.19.0->mlflow) (0.40.0)\n",
      "Requirement already satisfied: gitpython<4,>=3.1.9 in c:\\users\\igor\\anaconda3\\lib\\site-packages (from mlflow-skinny==2.19.0->mlflow) (3.1.43)\n",
      "Requirement already satisfied: protobuf<6,>=3.12.0 in c:\\users\\igor\\anaconda3\\lib\\site-packages (from mlflow-skinny==2.19.0->mlflow) (4.25.4)\n",
      "Requirement already satisfied: requests<3,>=2.17.3 in c:\\users\\igor\\anaconda3\\lib\\site-packages (from mlflow-skinny==2.19.0->mlflow) (2.32.3)\n",
      "Requirement already satisfied: typing-extensions>=4 in c:\\users\\igor\\anaconda3\\lib\\site-packages (from alembic!=1.10.0,<2->mlflow) (4.12.2)\n",
      "Requirement already satisfied: Mako in c:\\users\\igor\\anaconda3\\lib\\site-packages (from alembic!=1.10.0,<2->mlflow) (1.3.8)\n",
      "Requirement already satisfied: colorama in c:\\users\\igor\\anaconda3\\lib\\site-packages (from click<9,>=7.0->mlflow-skinny==2.19.0->mlflow) (0.4.4)\n",
      "Requirement already satisfied: google-auth~=2.0 in c:\\users\\igor\\anaconda3\\lib\\site-packages (from databricks-sdk<1,>=0.20.0->mlflow-skinny==2.19.0->mlflow) (2.34.0)\n",
      "Requirement already satisfied: urllib3>=1.26.0 in c:\\users\\igor\\anaconda3\\lib\\site-packages (from docker<8,>=4.0.0->mlflow) (1.26.9)\n",
      "Requirement already satisfied: pywin32>=304 in c:\\users\\igor\\anaconda3\\lib\\site-packages (from docker<8,>=4.0.0->mlflow) (308)\n",
      "Requirement already satisfied: itsdangerous>=0.24 in c:\\users\\igor\\anaconda3\\lib\\site-packages (from Flask<4->mlflow) (2.0.1)\n",
      "Requirement already satisfied: Werkzeug>=0.15 in c:\\users\\igor\\anaconda3\\lib\\site-packages (from Flask<4->mlflow) (2.0.3)\n",
      "Requirement already satisfied: gitdb<5,>=4.0.1 in c:\\users\\igor\\anaconda3\\lib\\site-packages (from gitpython<4,>=3.1.9->mlflow-skinny==2.19.0->mlflow) (4.0.11)\n",
      "Requirement already satisfied: smmap<6,>=3.0.1 in c:\\users\\igor\\anaconda3\\lib\\site-packages (from gitdb<5,>=4.0.1->gitpython<4,>=3.1.9->mlflow-skinny==2.19.0->mlflow) (5.0.1)\n",
      "Requirement already satisfied: rsa<5,>=3.1.4 in c:\\users\\igor\\anaconda3\\lib\\site-packages (from google-auth~=2.0->databricks-sdk<1,>=0.20.0->mlflow-skinny==2.19.0->mlflow) (4.7.2)\n",
      "Requirement already satisfied: pyasn1-modules>=0.2.1 in c:\\users\\igor\\anaconda3\\lib\\site-packages (from google-auth~=2.0->databricks-sdk<1,>=0.20.0->mlflow-skinny==2.19.0->mlflow) (0.2.8)\n",
      "Requirement already satisfied: graphql-core<3.3,>=3.1 in c:\\users\\igor\\anaconda3\\lib\\site-packages (from graphene<4->mlflow) (3.2.5)\n",
      "Requirement already satisfied: graphql-relay<3.3,>=3.1 in c:\\users\\igor\\anaconda3\\lib\\site-packages (from graphene<4->mlflow) (3.2.0)\n",
      "Requirement already satisfied: python-dateutil<3,>=2.7.0 in c:\\users\\igor\\anaconda3\\lib\\site-packages (from graphene<4->mlflow) (2.8.2)\n",
      "Requirement already satisfied: zipp>=3.20 in c:\\users\\igor\\anaconda3\\lib\\site-packages (from importlib_metadata!=4.7.0,<9,>=3.7.0->mlflow-skinny==2.19.0->mlflow) (3.21.0)\n",
      "Requirement already satisfied: MarkupSafe>=2.0 in c:\\users\\igor\\anaconda3\\lib\\site-packages (from Jinja2<4,>=3.0->mlflow) (2.0.1)\n",
      "Requirement already satisfied: fonttools>=4.22.0 in c:\\users\\igor\\anaconda3\\lib\\site-packages (from matplotlib<4->mlflow) (4.25.0)\n",
      "Requirement already satisfied: pillow>=6.2.0 in c:\\users\\igor\\anaconda3\\lib\\site-packages (from matplotlib<4->mlflow) (9.0.1)\n",
      "Requirement already satisfied: pyparsing>=2.2.1 in c:\\users\\igor\\anaconda3\\lib\\site-packages (from matplotlib<4->mlflow) (3.0.4)\n",
      "Requirement already satisfied: kiwisolver>=1.0.1 in c:\\users\\igor\\anaconda3\\lib\\site-packages (from matplotlib<4->mlflow) (1.3.2)\n",
      "Requirement already satisfied: cycler>=0.10 in c:\\users\\igor\\anaconda3\\lib\\site-packages (from matplotlib<4->mlflow) (0.11.0)\n",
      "Requirement already satisfied: deprecated>=1.2.6 in c:\\users\\igor\\anaconda3\\lib\\site-packages (from opentelemetry-api<3,>=1.9.0->mlflow-skinny==2.19.0->mlflow) (1.2.15)\n",
      "Requirement already satisfied: wrapt<2,>=1.10 in c:\\users\\igor\\anaconda3\\lib\\site-packages (from deprecated>=1.2.6->opentelemetry-api<3,>=1.9.0->mlflow-skinny==2.19.0->mlflow) (1.12.1)\n",
      "Requirement already satisfied: opentelemetry-semantic-conventions==0.50b0 in c:\\users\\igor\\anaconda3\\lib\\site-packages (from opentelemetry-sdk<3,>=1.9.0->mlflow-skinny==2.19.0->mlflow) (0.50b0)\n",
      "Requirement already satisfied: pytz>=2020.1 in c:\\users\\igor\\anaconda3\\lib\\site-packages (from pandas<3->mlflow) (2021.3)\n",
      "Requirement already satisfied: pyasn1<0.5.0,>=0.4.6 in c:\\users\\igor\\anaconda3\\lib\\site-packages (from pyasn1-modules>=0.2.1->google-auth~=2.0->databricks-sdk<1,>=0.20.0->mlflow-skinny==2.19.0->mlflow) (0.4.8)\n",
      "Requirement already satisfied: six>=1.5 in c:\\users\\igor\\anaconda3\\lib\\site-packages (from python-dateutil<3,>=2.7.0->graphene<4->mlflow) (1.16.0)\n",
      "Requirement already satisfied: certifi>=2017.4.17 in c:\\users\\igor\\anaconda3\\lib\\site-packages (from requests<3,>=2.17.3->mlflow-skinny==2.19.0->mlflow) (2021.10.8)\n",
      "Requirement already satisfied: charset-normalizer<4,>=2 in c:\\users\\igor\\anaconda3\\lib\\site-packages (from requests<3,>=2.17.3->mlflow-skinny==2.19.0->mlflow) (2.0.4)\n",
      "Requirement already satisfied: idna<4,>=2.5 in c:\\users\\igor\\anaconda3\\lib\\site-packages (from requests<3,>=2.17.3->mlflow-skinny==2.19.0->mlflow) (3.3)\n",
      "Requirement already satisfied: joblib>=0.11 in c:\\users\\igor\\anaconda3\\lib\\site-packages (from scikit-learn<2->mlflow) (1.1.0)\n",
      "Requirement already satisfied: threadpoolctl>=2.0.0 in c:\\users\\igor\\anaconda3\\lib\\site-packages (from scikit-learn<2->mlflow) (2.2.0)\n",
      "Requirement already satisfied: greenlet!=0.4.17 in c:\\users\\igor\\anaconda3\\lib\\site-packages (from sqlalchemy<3,>=1.4.0->mlflow) (1.1.1)\n"
     ]
    }
   ],
   "source": [
    "!pip install mlflow"
   ]
  },
  {
   "cell_type": "code",
   "execution_count": 8,
   "id": "c2d4c3b5",
   "metadata": {},
   "outputs": [
    {
     "name": "stdout",
     "output_type": "stream",
     "text": [
      "mlflow, version 2.19.0\n"
     ]
    }
   ],
   "source": [
    "!mlflow --version"
   ]
  },
  {
   "cell_type": "code",
   "execution_count": 9,
   "id": "5e2830c4",
   "metadata": {},
   "outputs": [],
   "source": [
    "# Step-1 Install requirements\n",
    "import numpy as np\n",
    "import pandas as pd\n",
    "from sklearn.linear_model import ElasticNet\n",
    "from sklearn.model_selection import train_test_split\n",
    "from sklearn.metrics import mean_absolute_error,mean_squared_error,r2_score\n",
    "import mlflow\n",
    "import mlflow.sklearn"
   ]
  },
  {
   "cell_type": "code",
   "execution_count": 10,
   "id": "1fe04a5e",
   "metadata": {},
   "outputs": [
    {
     "data": {
      "text/html": [
       "<div>\n",
       "<style scoped>\n",
       "    .dataframe tbody tr th:only-of-type {\n",
       "        vertical-align: middle;\n",
       "    }\n",
       "\n",
       "    .dataframe tbody tr th {\n",
       "        vertical-align: top;\n",
       "    }\n",
       "\n",
       "    .dataframe thead th {\n",
       "        text-align: right;\n",
       "    }\n",
       "</style>\n",
       "<table border=\"1\" class=\"dataframe\">\n",
       "  <thead>\n",
       "    <tr style=\"text-align: right;\">\n",
       "      <th></th>\n",
       "      <th>fixed acidity</th>\n",
       "      <th>volatile acidity</th>\n",
       "      <th>citric acid</th>\n",
       "      <th>residual sugar</th>\n",
       "      <th>chlorides</th>\n",
       "      <th>free sulfur dioxide</th>\n",
       "      <th>total sulfur dioxide</th>\n",
       "      <th>density</th>\n",
       "      <th>pH</th>\n",
       "      <th>sulphates</th>\n",
       "      <th>alcohol</th>\n",
       "      <th>quality</th>\n",
       "    </tr>\n",
       "  </thead>\n",
       "  <tbody>\n",
       "    <tr>\n",
       "      <th>0</th>\n",
       "      <td>7.0</td>\n",
       "      <td>0.27</td>\n",
       "      <td>0.36</td>\n",
       "      <td>20.7</td>\n",
       "      <td>0.045</td>\n",
       "      <td>45.0</td>\n",
       "      <td>170.0</td>\n",
       "      <td>1.0010</td>\n",
       "      <td>3.00</td>\n",
       "      <td>0.45</td>\n",
       "      <td>8.8</td>\n",
       "      <td>6</td>\n",
       "    </tr>\n",
       "    <tr>\n",
       "      <th>1</th>\n",
       "      <td>6.3</td>\n",
       "      <td>0.30</td>\n",
       "      <td>0.34</td>\n",
       "      <td>1.6</td>\n",
       "      <td>0.049</td>\n",
       "      <td>14.0</td>\n",
       "      <td>132.0</td>\n",
       "      <td>0.9940</td>\n",
       "      <td>3.30</td>\n",
       "      <td>0.49</td>\n",
       "      <td>9.5</td>\n",
       "      <td>6</td>\n",
       "    </tr>\n",
       "    <tr>\n",
       "      <th>2</th>\n",
       "      <td>8.1</td>\n",
       "      <td>0.28</td>\n",
       "      <td>0.40</td>\n",
       "      <td>6.9</td>\n",
       "      <td>0.050</td>\n",
       "      <td>30.0</td>\n",
       "      <td>97.0</td>\n",
       "      <td>0.9951</td>\n",
       "      <td>3.26</td>\n",
       "      <td>0.44</td>\n",
       "      <td>10.1</td>\n",
       "      <td>6</td>\n",
       "    </tr>\n",
       "    <tr>\n",
       "      <th>3</th>\n",
       "      <td>7.2</td>\n",
       "      <td>0.23</td>\n",
       "      <td>0.32</td>\n",
       "      <td>8.5</td>\n",
       "      <td>0.058</td>\n",
       "      <td>47.0</td>\n",
       "      <td>186.0</td>\n",
       "      <td>0.9956</td>\n",
       "      <td>3.19</td>\n",
       "      <td>0.40</td>\n",
       "      <td>9.9</td>\n",
       "      <td>6</td>\n",
       "    </tr>\n",
       "    <tr>\n",
       "      <th>4</th>\n",
       "      <td>7.2</td>\n",
       "      <td>0.23</td>\n",
       "      <td>0.32</td>\n",
       "      <td>8.5</td>\n",
       "      <td>0.058</td>\n",
       "      <td>47.0</td>\n",
       "      <td>186.0</td>\n",
       "      <td>0.9956</td>\n",
       "      <td>3.19</td>\n",
       "      <td>0.40</td>\n",
       "      <td>9.9</td>\n",
       "      <td>6</td>\n",
       "    </tr>\n",
       "  </tbody>\n",
       "</table>\n",
       "</div>"
      ],
      "text/plain": [
       "   fixed acidity  volatile acidity  citric acid  residual sugar  chlorides  \\\n",
       "0            7.0              0.27         0.36            20.7      0.045   \n",
       "1            6.3              0.30         0.34             1.6      0.049   \n",
       "2            8.1              0.28         0.40             6.9      0.050   \n",
       "3            7.2              0.23         0.32             8.5      0.058   \n",
       "4            7.2              0.23         0.32             8.5      0.058   \n",
       "\n",
       "   free sulfur dioxide  total sulfur dioxide  density    pH  sulphates  \\\n",
       "0                 45.0                 170.0   1.0010  3.00       0.45   \n",
       "1                 14.0                 132.0   0.9940  3.30       0.49   \n",
       "2                 30.0                  97.0   0.9951  3.26       0.44   \n",
       "3                 47.0                 186.0   0.9956  3.19       0.40   \n",
       "4                 47.0                 186.0   0.9956  3.19       0.40   \n",
       "\n",
       "   alcohol  quality  \n",
       "0      8.8        6  \n",
       "1      9.5        6  \n",
       "2     10.1        6  \n",
       "3      9.9        6  \n",
       "4      9.9        6  "
      ]
     },
     "execution_count": 10,
     "metadata": {},
     "output_type": "execute_result"
    }
   ],
   "source": [
    "# Step-2 Load Data set\n",
    "data = pd.read_csv('C:/Users/igor/Downloads/Data-Sets-ML/winequality-white.csv',delimiter=';')\n",
    "data.head()"
   ]
  },
  {
   "cell_type": "code",
   "execution_count": 11,
   "id": "62dd3df9",
   "metadata": {},
   "outputs": [
    {
     "data": {
      "text/plain": [
       "fixed acidity           0\n",
       "volatile acidity        0\n",
       "citric acid             0\n",
       "residual sugar          0\n",
       "chlorides               0\n",
       "free sulfur dioxide     0\n",
       "total sulfur dioxide    0\n",
       "density                 0\n",
       "pH                      0\n",
       "sulphates               0\n",
       "alcohol                 0\n",
       "quality                 0\n",
       "dtype: int64"
      ]
     },
     "execution_count": 11,
     "metadata": {},
     "output_type": "execute_result"
    }
   ],
   "source": [
    "data.isna().sum()"
   ]
  },
  {
   "cell_type": "code",
   "execution_count": 11,
   "id": "fd084761",
   "metadata": {},
   "outputs": [
    {
     "data": {
      "text/plain": [
       "((3428, 12), (1470, 12))"
      ]
     },
     "execution_count": 11,
     "metadata": {},
     "output_type": "execute_result"
    }
   ],
   "source": [
    "# split the train and test divide data into 70 and 30 percent and randomly\n",
    "train,test= train_test_split(data,test_size=0.3,random_state=1234)\n",
    "train.shape,test.shape"
   ]
  },
  {
   "cell_type": "code",
   "execution_count": 12,
   "id": "26ec81fc",
   "metadata": {},
   "outputs": [
    {
     "data": {
      "text/html": [
       "<div>\n",
       "<style scoped>\n",
       "    .dataframe tbody tr th:only-of-type {\n",
       "        vertical-align: middle;\n",
       "    }\n",
       "\n",
       "    .dataframe tbody tr th {\n",
       "        vertical-align: top;\n",
       "    }\n",
       "\n",
       "    .dataframe thead th {\n",
       "        text-align: right;\n",
       "    }\n",
       "</style>\n",
       "<table border=\"1\" class=\"dataframe\">\n",
       "  <thead>\n",
       "    <tr style=\"text-align: right;\">\n",
       "      <th></th>\n",
       "      <th>fixed acidity</th>\n",
       "      <th>volatile acidity</th>\n",
       "      <th>citric acid</th>\n",
       "      <th>residual sugar</th>\n",
       "      <th>chlorides</th>\n",
       "      <th>free sulfur dioxide</th>\n",
       "      <th>total sulfur dioxide</th>\n",
       "      <th>density</th>\n",
       "      <th>pH</th>\n",
       "      <th>sulphates</th>\n",
       "      <th>alcohol</th>\n",
       "      <th>quality</th>\n",
       "    </tr>\n",
       "  </thead>\n",
       "  <tbody>\n",
       "    <tr>\n",
       "      <th>1605</th>\n",
       "      <td>7.1</td>\n",
       "      <td>0.26</td>\n",
       "      <td>0.49</td>\n",
       "      <td>2.2</td>\n",
       "      <td>0.032</td>\n",
       "      <td>31.0</td>\n",
       "      <td>113.0</td>\n",
       "      <td>0.99030</td>\n",
       "      <td>3.37</td>\n",
       "      <td>0.42</td>\n",
       "      <td>12.9</td>\n",
       "      <td>9</td>\n",
       "    </tr>\n",
       "    <tr>\n",
       "      <th>1121</th>\n",
       "      <td>6.0</td>\n",
       "      <td>0.40</td>\n",
       "      <td>0.30</td>\n",
       "      <td>1.6</td>\n",
       "      <td>0.047</td>\n",
       "      <td>30.0</td>\n",
       "      <td>117.0</td>\n",
       "      <td>0.99310</td>\n",
       "      <td>3.17</td>\n",
       "      <td>0.48</td>\n",
       "      <td>10.1</td>\n",
       "      <td>6</td>\n",
       "    </tr>\n",
       "    <tr>\n",
       "      <th>818</th>\n",
       "      <td>6.2</td>\n",
       "      <td>0.30</td>\n",
       "      <td>0.17</td>\n",
       "      <td>2.8</td>\n",
       "      <td>0.040</td>\n",
       "      <td>24.0</td>\n",
       "      <td>125.0</td>\n",
       "      <td>0.99390</td>\n",
       "      <td>3.01</td>\n",
       "      <td>0.46</td>\n",
       "      <td>9.0</td>\n",
       "      <td>5</td>\n",
       "    </tr>\n",
       "    <tr>\n",
       "      <th>2872</th>\n",
       "      <td>4.2</td>\n",
       "      <td>0.17</td>\n",
       "      <td>0.36</td>\n",
       "      <td>1.8</td>\n",
       "      <td>0.029</td>\n",
       "      <td>93.0</td>\n",
       "      <td>161.0</td>\n",
       "      <td>0.98999</td>\n",
       "      <td>3.65</td>\n",
       "      <td>0.89</td>\n",
       "      <td>12.0</td>\n",
       "      <td>7</td>\n",
       "    </tr>\n",
       "    <tr>\n",
       "      <th>232</th>\n",
       "      <td>8.2</td>\n",
       "      <td>0.27</td>\n",
       "      <td>0.39</td>\n",
       "      <td>7.8</td>\n",
       "      <td>0.039</td>\n",
       "      <td>49.0</td>\n",
       "      <td>208.0</td>\n",
       "      <td>0.99760</td>\n",
       "      <td>3.31</td>\n",
       "      <td>0.51</td>\n",
       "      <td>9.5</td>\n",
       "      <td>6</td>\n",
       "    </tr>\n",
       "  </tbody>\n",
       "</table>\n",
       "</div>"
      ],
      "text/plain": [
       "      fixed acidity  volatile acidity  citric acid  residual sugar  chlorides  \\\n",
       "1605            7.1              0.26         0.49             2.2      0.032   \n",
       "1121            6.0              0.40         0.30             1.6      0.047   \n",
       "818             6.2              0.30         0.17             2.8      0.040   \n",
       "2872            4.2              0.17         0.36             1.8      0.029   \n",
       "232             8.2              0.27         0.39             7.8      0.039   \n",
       "\n",
       "      free sulfur dioxide  total sulfur dioxide  density    pH  sulphates  \\\n",
       "1605                 31.0                 113.0  0.99030  3.37       0.42   \n",
       "1121                 30.0                 117.0  0.99310  3.17       0.48   \n",
       "818                  24.0                 125.0  0.99390  3.01       0.46   \n",
       "2872                 93.0                 161.0  0.98999  3.65       0.89   \n",
       "232                  49.0                 208.0  0.99760  3.31       0.51   \n",
       "\n",
       "      alcohol  quality  \n",
       "1605     12.9        9  \n",
       "1121     10.1        6  \n",
       "818       9.0        5  \n",
       "2872     12.0        7  \n",
       "232       9.5        6  "
      ]
     },
     "execution_count": 12,
     "metadata": {},
     "output_type": "execute_result"
    }
   ],
   "source": [
    "train.head()"
   ]
  },
  {
   "cell_type": "code",
   "execution_count": 13,
   "id": "cc0ab774",
   "metadata": {},
   "outputs": [],
   "source": [
    "# Now divide data into train_x and train_y\n",
    "train_x=train.drop(['quality'], axis=1)\n",
    "test_x =test.drop(['quality'],axis=1)\n",
    "\n",
    "train_y=train[['quality']]\n",
    "test_y=test[['quality']]"
   ]
  },
  {
   "cell_type": "code",
   "execution_count": 16,
   "id": "0736740c",
   "metadata": {},
   "outputs": [
    {
     "data": {
      "text/plain": [
       "((3428, 11), (3428, 1))"
      ]
     },
     "execution_count": 16,
     "metadata": {},
     "output_type": "execute_result"
    }
   ],
   "source": [
    "train_x.shape,train_y.shape"
   ]
  },
  {
   "cell_type": "code",
   "execution_count": 17,
   "id": "a1ef6775",
   "metadata": {},
   "outputs": [
    {
     "data": {
      "text/plain": [
       "((1470, 11), (1470, 1))"
      ]
     },
     "execution_count": 17,
     "metadata": {},
     "output_type": "execute_result"
    }
   ],
   "source": [
    "test_x.shape,test_y.shape"
   ]
  },
  {
   "cell_type": "code",
   "execution_count": 14,
   "id": "76cd480a",
   "metadata": {},
   "outputs": [
    {
     "data": {
      "text/plain": [
       "<Experiment: artifact_location='file:///C:/Users/igor/mlopssir/mlruns/222810493346004295', creation_time=1735785488795, experiment_id='222810493346004295', last_update_time=1735785488795, lifecycle_stage='active', name='/mlflow/igor_workspace', tags={}>"
      ]
     },
     "execution_count": 14,
     "metadata": {},
     "output_type": "execute_result"
    }
   ],
   "source": [
    "# Step-5 Start mlflow by creating workspace(experiment)\n",
    "mlflow.set_experiment('/mlflow/igor_workspace')"
   ]
  },
  {
   "cell_type": "code",
   "execution_count": 15,
   "id": "4f7f2094",
   "metadata": {},
   "outputs": [
    {
     "name": "stdout",
     "output_type": "stream",
     "text": [
      "222810493346004295\n",
      "active\n",
      "/mlflow/igor_workspace\n"
     ]
    }
   ],
   "source": [
    "print(mlflow.set_experiment('/mlflow/igor_workspace').experiment_id)\n",
    "print(mlflow.set_experiment('/mlflow/igor_workspace').lifecycle_stage)\n",
    "print(mlflow.set_experiment('/mlflow/igor_workspace').name)"
   ]
  },
  {
   "cell_type": "code",
   "execution_count": 16,
   "id": "e0d68e45",
   "metadata": {},
   "outputs": [],
   "source": [
    "# Train the model\n",
    "def train_model(alpha,l1_ratio):\n",
    "  train,test= train_test_split(data,test_size=0.3,random_state=1234)\n",
    "  train_x=train.drop(['quality'], axis=1)\n",
    "  test_x =test.drop(['quality'],axis=1)\n",
    "  train_y=train[['quality']]\n",
    "  test_y=test[['quality']]\n",
    "\n",
    "# Initiate mlflow now(run)\n",
    "  with mlflow.start_run(experiment_id=222810493346004295,run_name=\"regression\",description=\"performing analysis\"):\n",
    "    # Call ML model, variable lr\n",
    "    lr=ElasticNet(alpha=alpha,l1_ratio=l1_ratio)\n",
    "    lr.fit(train_x,train_y)\n",
    "\n",
    "    # call model prediction on test_x data\n",
    "    predicted_data=lr.predict(test_x)\n",
    "\n",
    "    # Model evaluation(compare test data vs prediction data)\n",
    "    rmse=np.sqrt(mean_squared_error(test_y,predicted_data))\n",
    "    mae=mean_absolute_error(test_y,predicted_data)\n",
    "    r2=r2_score(test_y,predicted_data)\n",
    "\n",
    "    print(\"rmse:\",rmse)\n",
    "    print(\"mae:\",mae)\n",
    "    print(\"r2:\",r2)\n",
    "\n",
    "    # Log the metrics,parameters and model on mlflow\n",
    "    mlflow.log_param(\"alpha\",alpha)\n",
    "    mlflow.log_param(\"l1_ratio\",l1_ratio)\n",
    "\n",
    "    mlflow.log_metric(\"rmse\",rmse)\n",
    "    mlflow.log_metric(\"mae\",mae)\n",
    "    mlflow.log_metric(\"r2\",r2)\n",
    "\n",
    "    # Register the model\n",
    "    mlflow.sklearn.log_model(lr,\"model\",registered_model_name='ElasticNet')\n"
   ]
  },
  {
   "cell_type": "code",
   "execution_count": 17,
   "id": "63920da8",
   "metadata": {},
   "outputs": [
    {
     "name": "stdout",
     "output_type": "stream",
     "text": [
      "rmse: 0.8015619554750656\n",
      "mae: 0.6146041041484648\n",
      "r2: 0.18319008419651783\n"
     ]
    },
    {
     "name": "stderr",
     "output_type": "stream",
     "text": [
      "2025/01/01 23:51:39 WARNING mlflow.utils.environment: Encountered an unexpected error while inferring pip requirements (model URI: C:\\Users\\igor\\AppData\\Local\\Temp\\tmpw53bsilw\\model\\model.pkl, flavor: sklearn). Fall back to return ['scikit-learn==1.0.2', 'cloudpickle==2.0.0']. Set logging level to DEBUG to see the full traceback. \n",
      "2025/01/01 23:51:39 WARNING mlflow.models.model: Model logged without a signature and input example. Please set `input_example` parameter when logging the model to auto infer the model signature.\n",
      "Registered model 'ElasticNet' already exists. Creating a new version of this model...\n",
      "Created version '2' of model 'ElasticNet'.\n"
     ]
    }
   ],
   "source": [
    "train_model(0.3,0.2)"
   ]
  },
  {
   "cell_type": "code",
   "execution_count": 18,
   "id": "cf116a1d",
   "metadata": {},
   "outputs": [
    {
     "name": "stdout",
     "output_type": "stream",
     "text": [
      "rmse: 0.8716969189431293\n",
      "mae: 0.6497835908131276\n",
      "r2: 0.033998432770415254\n"
     ]
    },
    {
     "name": "stderr",
     "output_type": "stream",
     "text": [
      "2025/01/01 23:52:09 WARNING mlflow.utils.environment: Encountered an unexpected error while inferring pip requirements (model URI: C:\\Users\\igor\\AppData\\Local\\Temp\\tmpyy7izy1x\\model\\model.pkl, flavor: sklearn). Fall back to return ['scikit-learn==1.0.2', 'cloudpickle==2.0.0']. Set logging level to DEBUG to see the full traceback. \n",
      "2025/01/01 23:52:09 WARNING mlflow.models.model: Model logged without a signature and input example. Please set `input_example` parameter when logging the model to auto infer the model signature.\n",
      "Registered model 'ElasticNet' already exists. Creating a new version of this model...\n",
      "Created version '3' of model 'ElasticNet'.\n"
     ]
    }
   ],
   "source": [
    "train_model(0.8,0.6)"
   ]
  },
  {
   "cell_type": "code",
   "execution_count": 19,
   "id": "23cb9979",
   "metadata": {},
   "outputs": [
    {
     "name": "stdout",
     "output_type": "stream",
     "text": [
      "Requirement already satisfied: pyngrok in c:\\users\\igor\\anaconda3\\lib\\site-packages (7.2.2)\n",
      "Requirement already satisfied: PyYAML>=5.1 in c:\\users\\igor\\anaconda3\\lib\\site-packages (from pyngrok) (6.0)\n"
     ]
    }
   ],
   "source": [
    "# Create mlflowUI\n",
    "!pip install pyngrok"
   ]
  },
  {
   "cell_type": "code",
   "execution_count": 23,
   "id": "a1f1c874",
   "metadata": {},
   "outputs": [
    {
     "name": "stdout",
     "output_type": "stream",
     "text": [
      "Tracking URI: https://3453-2603-6080-2f00-5888-e024-9fa1-b637-2e20.ngrok-free.app\n"
     ]
    }
   ],
   "source": [
    "from pyngrok import ngrok\n",
    "# ngrok.kill()  # Kill any previous tunnels\n",
    "auth_token=\"2r1qRGD8DuXNtAuDGIiKxQbOFzh_4wHo8MEftvS6DDFhpeshb\"\n",
    "ngrok.set_auth_token(auth_token)\n",
    "ngrok_tunnel = ngrok.connect(addr='5000', proto='http')\n",
    "print(\"Tracking URI:\", ngrok_tunnel.public_url)\n"
   ]
  },
  {
   "cell_type": "code",
   "execution_count": 24,
   "id": "0bd7e688",
   "metadata": {},
   "outputs": [
    {
     "data": {
      "text/plain": [
       "<Popen: returncode: None args: ['mlflow', 'ui']>"
      ]
     },
     "execution_count": 24,
     "metadata": {},
     "output_type": "execute_result"
    },
    {
     "name": "stderr",
     "output_type": "stream",
     "text": [
      "t=2025-01-02T00:55:00-0500 lvl=eror msg=\"heartbeat timeout, terminating session\" obj=tunnels.session obj=csess id=26c2410e69b0 clientid=3c02d25a40bbd71150c18a141cee87ff\n",
      "t=2025-01-02T00:55:00-0500 lvl=eror msg=\"session closed, starting reconnect loop\" obj=tunnels.session obj=csess id=f432c84ada92 err=\"session closed\"\n",
      "t=2025-01-02T00:55:00-0500 lvl=eror msg=\"failed to reconnect session\" obj=tunnels.session err=\"failed to dial ngrok server with address \\\"connect.us.ngrok-agent.com:443\\\": dial tcp: lookup connect.us.ngrok-agent.com: no such host\"\n",
      "t=2025-01-02T01:11:48-0500 lvl=eror msg=\"heartbeat timeout, terminating session\" obj=tunnels.session obj=csess id=bfd4ab913dfd clientid=3c02d25a40bbd71150c18a141cee87ff\n",
      "t=2025-01-02T01:11:48-0500 lvl=eror msg=\"session closed, starting reconnect loop\" obj=tunnels.session obj=csess id=f432c84ada92 err=\"session closed\"\n",
      "t=2025-01-02T01:15:43-0500 lvl=eror msg=\"heartbeat timeout, terminating session\" obj=tunnels.session obj=csess id=acc4221c3153 clientid=3c02d25a40bbd71150c18a141cee87ff\n",
      "t=2025-01-02T01:15:43-0500 lvl=eror msg=\"session closed, starting reconnect loop\" obj=tunnels.session obj=csess id=f432c84ada92 err=\"session closed\"\n"
     ]
    }
   ],
   "source": [
    "import subprocess\n",
    "\n",
    "# Run the MLflow UI command in the background and use http://localhost:5000 to access UI\n",
    "subprocess.Popen([\"mlflow\", \"ui\"])\n"
   ]
  }
 ],
 "metadata": {
  "kernelspec": {
   "display_name": "Python 3 (ipykernel)",
   "language": "python",
   "name": "python3"
  },
  "language_info": {
   "codemirror_mode": {
    "name": "ipython",
    "version": 3
   },
   "file_extension": ".py",
   "mimetype": "text/x-python",
   "name": "python",
   "nbconvert_exporter": "python",
   "pygments_lexer": "ipython3",
   "version": "3.9.12"
  }
 },
 "nbformat": 4,
 "nbformat_minor": 5
}
